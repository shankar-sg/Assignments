{
 "cells": [
  {
   "cell_type": "markdown",
   "metadata": {},
   "source": [
    "# Assignment 2"
   ]
  },
  {
   "cell_type": "markdown",
   "metadata": {},
   "source": [
    "Assignment 2.1\n",
    "\n",
    "Create the below pattern using nested for loop in Python. (Triangle Pattern)"
   ]
  },
  {
   "cell_type": "code",
   "execution_count": 3,
   "metadata": {},
   "outputs": [
    {
     "name": "stdout",
     "output_type": "stream",
     "text": [
      "\n",
      "*\n",
      "**\n",
      "***\n",
      "****\n",
      "***\n",
      "**\n",
      "*\n"
     ]
    }
   ],
   "source": [
    "#\n",
    "# Print first half of triangle\n",
    "#\n",
    "for i in range(5):\n",
    "    for j in range(i+1):\n",
    "        print(\"*\",end='')\n",
    "    print()\n",
    "#\n",
    "# Print lower half of triangle\n",
    "#    \n",
    "for i in range(4,0,-1):\n",
    "    for j in range(i):\n",
    "        print(\"*\",end='')\n",
    "    print()   \n"
   ]
  },
  {
   "cell_type": "markdown",
   "metadata": {},
   "source": [
    "Assignment 2.2\n",
    "\n",
    "Write a Python program to reverse a word after accepting the input from the user.\n"
   ]
  },
  {
   "cell_type": "code",
   "execution_count": 6,
   "metadata": {},
   "outputs": [
    {
     "name": "stdout",
     "output_type": "stream",
     "text": [
      "Enter the word:Word\n",
      "Word reversed is droW\n",
      "Word reversed is droW.\n"
     ]
    }
   ],
   "source": [
    "word = input(\"Enter the word:\")\n",
    "wordReversed = ''  # Initialise empty string wordReversed\n",
    "\n",
    "for i in range(-1, -len(word)-1,-1):\n",
    "    wordReversed += word[i]  # Concatenate each letter of word from backward (through negative indexing) to wordReversed string\n",
    "    \n",
    "    \n",
    "print('{} reversed is {}'.format(word, wordReversed))\n",
    "\n",
    "#Alternate Method\n",
    "'''\n",
    "print(\"{} reversed is {}.\".format(word, word[::-1]))  # Use string slicing to reverse the string\n",
    "'''"
   ]
  }
 ],
 "metadata": {
  "kernelspec": {
   "display_name": "Python 3",
   "language": "python",
   "name": "python3"
  },
  "language_info": {
   "codemirror_mode": {
    "name": "ipython",
    "version": 3
   },
   "file_extension": ".py",
   "mimetype": "text/x-python",
   "name": "python",
   "nbconvert_exporter": "python",
   "pygments_lexer": "ipython3",
   "version": "3.7.6"
  }
 },
 "nbformat": 4,
 "nbformat_minor": 4
}
